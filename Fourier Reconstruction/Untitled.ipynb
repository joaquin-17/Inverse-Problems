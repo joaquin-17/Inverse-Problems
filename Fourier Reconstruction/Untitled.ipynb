{
 "cells": [
  {
   "cell_type": "code",
   "execution_count": 4,
   "metadata": {},
   "outputs": [],
   "source": [
    "using Printf"
   ]
  },
  {
   "cell_type": "code",
   "execution_count": 8,
   "metadata": {},
   "outputs": [],
   "source": [
    "using SeisProcessing"
   ]
  },
  {
   "cell_type": "code",
   "execution_count": 9,
   "metadata": {},
   "outputs": [],
   "source": [
    "d = SeisHypEvents(apex=[100, 200, -300], f0=[30, 20, 15]);"
   ]
  },
  {
   "cell_type": "code",
   "execution_count": 13,
   "metadata": {},
   "outputs": [
    {
     "data": {
      "text/plain": [
       "10-element Vector{Float64}:\n",
       " 1.0\n",
       " 1.0\n",
       " 1.0\n",
       " 1.0\n",
       " 1.0\n",
       " 1.0\n",
       " 1.0\n",
       " 1.0\n",
       " 1.0\n",
       " 1.0"
      ]
     },
     "execution_count": 13,
     "metadata": {},
     "output_type": "execute_result"
    }
   ],
   "source": [
    "d=ones(10,10);\n",
    "\n",
    "\n",
    "d[:,1]"
   ]
  },
  {
   "cell_type": "code",
   "execution_count": 1,
   "metadata": {},
   "outputs": [
    {
     "data": {
      "text/plain": [
       "adjoint_hyp (generic function with 1 method)"
      ]
     },
     "execution_count": 1,
     "metadata": {},
     "output_type": "execute_result"
    }
   ],
   "source": [
    "function adjoint_hyp(d::Array{Float64,2}, indx::Array{Int,2}, dt::Float64,\n",
    "                     nt::Int,h::Array{Float64,1}, tau::Array{Float64,1},\n",
    "                     vel::Array{Float64,1}, apex::Array{Float64,1},\n",
    "                     fbp::Array{Float64,1})\n",
    "\n",
    "    nh = length(h)\n",
    "    d  = bandpass(d, dt, fbp=fbp)\n",
    "    nm = size(indx,1)\n",
    "    m  = zeros(Float64,nm)\n",
    "    @inbounds for im = 1:nm, ih = 1:nh\n",
    "        itau  = indx[im,1] #tau index\n",
    "        ivel  = indx[im,2] #velocity index\n",
    "        iapex = indx[im,3] # apex index\n",
    "        aux = (h[ih] - apex[iapex])/vel[ivel];\n",
    "        tt  = sqrt(tau[itau]^2 + aux^2)\n",
    "        it  = tt/dt + 1 \n",
    "        it1 = floor(Int,it)\n",
    "        it2 = it1 + 1\n",
    "        a = it - it1\n",
    "        if it2 <= nt\n",
    "            m[im] += (1-a)*d[it1,ih] + a*d[it2,ih]\n",
    "        end\n",
    "    end\n",
    "    return m\n",
    "    \n",
    "end\n"
   ]
  },
  {
   "cell_type": "code",
   "execution_count": 2,
   "metadata": {},
   "outputs": [
    {
     "data": {
      "text/plain": [
       "forward_hyp (generic function with 1 method)"
      ]
     },
     "execution_count": 2,
     "metadata": {},
     "output_type": "execute_result"
    }
   ],
   "source": [
    "function forward_hyp(m::Array{Float64,1}, indx::Array{Int,2}, dt::Float64,\n",
    "                     nt::Int, h::Array{Float64,1}, tau::Array{Float64,1},\n",
    "                     vel::Array{Float64,1}, apex::Array{Float64,1},\n",
    "                     fbp::Array{Float64,1})\n",
    "    \n",
    "    nh = length(h)\n",
    "    d  = zeros(Float64, nt, nh)\n",
    "    nm = size(indx,1)\n",
    "    @inbounds for im = 1:nm, ih = 1:nh\n",
    "        itau  = indx[im,1]\n",
    "        ivel  = indx[im,2]\n",
    "        iapex = indx[im,3]\n",
    "        aux = (h[ih] - apex[iapex])/vel[ivel]\n",
    "        tt  = sqrt(tau[itau]^2 + aux^2)\n",
    "        it  = tt/dt + 1\n",
    "        it1 = floor(Int,it)\n",
    "        it2 = it1 + 1\n",
    "        a = it - it1\n",
    "        if it2 <= nt\n",
    "            d[it1,ih] += (1-a)*m[im]\n",
    "            d[it2,ih] += a*m[im]\n",
    "        end\n",
    "    end\n",
    "    d = bandpass(d, dt, fbp=fbp)\n",
    "    return d\n",
    "    \n",
    "end\n"
   ]
  },
  {
   "cell_type": "code",
   "execution_count": 7,
   "metadata": {},
   "outputs": [
    {
     "data": {
      "text/plain": [
       "thresh (generic function with 1 method)"
      ]
     },
     "execution_count": 7,
     "metadata": {},
     "output_type": "execute_result"
    }
   ],
   "source": [
    "function fista(d::Array{Float64,2}, adjoint_op::Function, forward_op::Function,\n",
    "               indx::Array{Int,2}, dt::Float64, nt::Int, h::Array{Float64,1},\n",
    "               tau::Array{Float64,1}, vel::Array{Float64,1},\n",
    "               apex::Array{Float64,1}, fbp::Array{Float64,1}, alpha::Float64;\n",
    "               Nit::Int=500, res::Float64=1e4, mu::Float64=0.1, say::Bool=true)\n",
    "\n",
    "    println(\"\")\n",
    "    println(\" ==================================================\")\n",
    "    println(\" Fast Iterative Soft Thresholding Algorithm (FISTA)\")\n",
    "    println(\" ==================================================\")\n",
    "\n",
    "    param = [dt, nt, h, tau, vel, apex, fbp]\n",
    "    J = zeros(Float64, Nit+1)\n",
    "    misfit = vecnorm(d)^2\n",
    "    J[1] = misfit\n",
    "    say ? @printf(\"\\n Iteration: %3d, Misfit = %0.4f\\n\", 0, misfit) : nothing\n",
    "    T = mu / (2*alpha)\n",
    "\n",
    "    # Initialize\n",
    "    m = zeros(adjoint_op(d, indx, param...))\n",
    "    yk = copy(m)\n",
    "    t = 1.0\n",
    "    k = 0\n",
    "    cost0 = misfit\n",
    "    err = 1.0\n",
    "    \n",
    "    while k < Nit && misfit > res && err > 1e-4 \n",
    "\n",
    "        # Update model m with FISTA\n",
    "        k = k + 1 \n",
    "        mk = copy(m)\n",
    "        df = d - forward_op(yk, indx, param...)\n",
    "        m  = adjoint_op(df, indx, param...)\n",
    "        m  = thresh(yk + m/lambda, T, \"soft\")\n",
    "        \n",
    "        # Update cost function\n",
    "        df = d - forward_op(m, indx, param...)\n",
    "        misfit = vecnorm(df)^2\n",
    "        cost = misfit + mu*sum(abs(m))\n",
    "        J[k+1] = cost\n",
    "        say ? @printf(\" Iteration: %3d, Misfit = %0.4f, Cost = %0.4f\\n\", k,\n",
    "                      misfit, cost) : nothing\n",
    "\n",
    "        # Update t and yk for next iteration\n",
    "        tk = t\n",
    "        t  = 0.5 * (1.0 + sqrt(1.0 + 4.0*tk^2))\n",
    "        yk = m + (tk-1.0)/t * (m-mk)\n",
    "        err = abs(cost0-cost)/cost\n",
    " \n",
    "    end\n",
    "\n",
    "    return m, J\n",
    "\n",
    "end\n",
    "\n",
    "\n",
    "function power_method(m::Array{Float64,1}, adjoint_op::Function,\n",
    "                      forward_op::Function, indx::Array{Int,2}, dt::Float64,\n",
    "                      nt::Int, h::Array{Float64,1}, tau::Array{Float64,1},\n",
    "                      vel::Array{Float64,1}, apex::Array{Float64,1},\n",
    "                      fbp::Array{Float64,1}; Nit::Int=200, say::Bool=true)\n",
    "\n",
    "    param = [dt, nt, h, tau, vel, apex, fbp]\n",
    "    lambda = 1e-8\n",
    "    k = 0\n",
    "    err = 1.e4\n",
    "    while k < Nit && err > 1e-8\n",
    "        k = k + 1\n",
    "        lambda0 = copy(lambda)\n",
    "        d = forward_op(m, indx, param...)\n",
    "        m1 = adjoint_op(d, indx, param...)\n",
    "        lambda = norm(m)\n",
    "        m = m1 / lambda\n",
    "        err = abs((lambda0 - lambda)/lambda)\n",
    "        say ? @printf(\" Iteration: %3d, maximum eig: %0.4f, rel. dif.: %0.8f\\n\",\n",
    "                      k, lambda, err) : nothing\n",
    "    end\n",
    "    return lambda\n",
    "\n",
    "end\n",
    "\n",
    "\n",
    "function thresh(x::Array{Float64,1}, t::Float64, kind::String)\n",
    "\n",
    "    if kind==\"soft\"\n",
    "        tmp = abs(x) - t\n",
    "        tmp = (tmp + abs(tmp)) / 2\n",
    "        x   = sign(x) .* tmp\n",
    "    elseif kind ==\"hard\"\n",
    "        x   = x.*(abs(x).>t);\n",
    "    else\n",
    "        error(\"Wrong thresholding kind\")\n",
    "    end\n",
    "    return x\n",
    "\n",
    "end\n",
    "\n",
    "\n"
   ]
  },
  {
   "cell_type": "code",
   "execution_count": null,
   "metadata": {},
   "outputs": [],
   "source": []
  }
 ],
 "metadata": {
  "kernelspec": {
   "display_name": "Julia 1.6.4",
   "language": "julia",
   "name": "julia-1.6"
  },
  "language_info": {
   "file_extension": ".jl",
   "mimetype": "application/julia",
   "name": "julia",
   "version": "1.6.4"
  }
 },
 "nbformat": 4,
 "nbformat_minor": 2
}
